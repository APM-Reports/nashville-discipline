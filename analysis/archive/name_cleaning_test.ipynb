{
 "cells": [
  {
   "cell_type": "markdown",
   "id": "336fc1d6-05cd-4dd7-bef8-8d2385f25c71",
   "metadata": {},
   "source": [
    "lets use fuzzywuzzy to clean the names in the incident data"
   ]
  },
  {
   "cell_type": "code",
   "execution_count": 20,
   "id": "c628c7d3-9b7d-4bfb-b4a5-f478c4f07864",
   "metadata": {},
   "outputs": [],
   "source": [
    "import os\n",
    "import json\n",
    "import pandas as pd\n",
    "import altair as alt\n",
    "from fuzzywuzzy import process\n",
    "\n",
    "cwd = os.getcwd()\n",
    "data_dir = os.path.join(cwd, 'data')\n",
    "source_dir = os.path.join(data_dir,'source')\n",
    "manual_dir = os.path.join(data_dir, 'manual')\n",
    "processed_dir = os.path.join(data_dir, 'processed')\n",
    "\n",
    "# the discipline data that is one-row-per-incident\n",
    "incident_xlsx = os.path.join(source_dir, '2010-2020.xlsx')\n",
    "incident_df = pd.read_excel(\n",
    "    incident_xlsx,\n",
    "    parse_dates = ['FINAL DISP DATE']\n",
    ")\n",
    "\n",
    "incident_df['full_name'] = incident_df['EMPLOYEE FIRST NAME'] + ' ' + incident_df['EMPLOYEE LAST NAME']\n",
    "incident_df['clean_name'] = incident_df['full_name'].str.strip().str.lower()"
   ]
  },
  {
   "cell_type": "markdown",
   "id": "53092a4a-5bfe-4b45-83ae-851d7227f538",
   "metadata": {},
   "source": [
    "Take the list of unique names, take each name and compare to the rest of the names"
   ]
  },
  {
   "cell_type": "code",
   "execution_count": 24,
   "id": "78238458-ec68-4da4-87f9-4816d6fc2642",
   "metadata": {},
   "outputs": [
    {
     "data": {
      "text/plain": [
       "'for name in unique_names:\\n    results = process.extract(\\n        name,\\n        unique_names,\\n        limit=5\\n    )\\n    \\n    second_best_result_score = results[1][1] # [1][1] gets the score of the second best match for the name. First best will be the name \\n    if 85 < second_best_result_score < 100:\\n        #print(results)\\n        pass'"
      ]
     },
     "execution_count": 24,
     "metadata": {},
     "output_type": "execute_result"
    }
   ],
   "source": [
    "# unique_names = incident_df.clean_name.dropna().unique()\n",
    "\n",
    "'''for name in unique_names:\n",
    "    results = process.extract(\n",
    "        name,\n",
    "        unique_names,\n",
    "        limit=5\n",
    "    )\n",
    "    \n",
    "    second_best_result_score = results[1][1] # [1][1] gets the score of the second best match for the name. First best will be the name \n",
    "    if 85 < second_best_result_score < 100:\n",
    "        #print(results)\n",
    "        pass'''"
   ]
  },
  {
   "cell_type": "code",
   "execution_count": 54,
   "id": "dd54df99-7ec1-4399-8f8e-436e971cae30",
   "metadata": {},
   "outputs": [
    {
     "ename": "AttributeError",
     "evalue": "module 'pandas' has no attribute 'na'",
     "output_type": "error",
     "traceback": [
      "\u001b[0;31m---------------------------------------------------------------------------\u001b[0m",
      "\u001b[0;31mAttributeError\u001b[0m                            Traceback (most recent call last)",
      "\u001b[0;32m/var/folders/dr/8szn0n3n3g3fnf7x3kxqf7njq137ym/T/ipykernel_40310/4263213449.py\u001b[0m in \u001b[0;36m<module>\u001b[0;34m\u001b[0m\n\u001b[0;32m----> 1\u001b[0;31m \u001b[0mpd\u001b[0m\u001b[0;34m.\u001b[0m\u001b[0misna\u001b[0m\u001b[0;34m(\u001b[0m\u001b[0mpd\u001b[0m\u001b[0;34m.\u001b[0m\u001b[0mna\u001b[0m\u001b[0;34m)\u001b[0m\u001b[0;34m\u001b[0m\u001b[0;34m\u001b[0m\u001b[0m\n\u001b[0m",
      "\u001b[0;32m~/.local/share/virtualenvs/nashville-discipline-OnqueALa/lib/python3.8/site-packages/pandas/__init__.py\u001b[0m in \u001b[0;36m__getattr__\u001b[0;34m(name)\u001b[0m\n\u001b[1;32m    242\u001b[0m         \u001b[0;32mreturn\u001b[0m \u001b[0m_SparseArray\u001b[0m\u001b[0;34m\u001b[0m\u001b[0;34m\u001b[0m\u001b[0m\n\u001b[1;32m    243\u001b[0m \u001b[0;34m\u001b[0m\u001b[0m\n\u001b[0;32m--> 244\u001b[0;31m     \u001b[0;32mraise\u001b[0m \u001b[0mAttributeError\u001b[0m\u001b[0;34m(\u001b[0m\u001b[0;34mf\"module 'pandas' has no attribute '{name}'\"\u001b[0m\u001b[0;34m)\u001b[0m\u001b[0;34m\u001b[0m\u001b[0;34m\u001b[0m\u001b[0m\n\u001b[0m\u001b[1;32m    245\u001b[0m \u001b[0;34m\u001b[0m\u001b[0m\n\u001b[1;32m    246\u001b[0m \u001b[0;34m\u001b[0m\u001b[0m\n",
      "\u001b[0;31mAttributeError\u001b[0m: module 'pandas' has no attribute 'na'"
     ]
    }
   ],
   "source": [
    "pd.isna(pd.na)"
   ]
  },
  {
   "cell_type": "code",
   "execution_count": 70,
   "id": "b81e0ccb-be3c-4454-8c1c-2ba7c077c175",
   "metadata": {},
   "outputs": [],
   "source": [
    "def strip_text(df):\n",
    "    name = df['name']\n",
    "    name = name.lower().replace(',',' ').replace(\"'\",\" \").replace(\".\",\" \").replace('(', ' ').replace(')',' ').strip()\n",
    "    clean_name = \" \".join(sorted(name.split())) # this splits the name into words, alphebetizes and rejoins\n",
    " \n",
    "    return clean_name"
   ]
  },
  {
   "cell_type": "code",
   "execution_count": 71,
   "id": "979a5891-5ffd-4499-829b-d95eba475d66",
   "metadata": {},
   "outputs": [],
   "source": [
    "def clean_race_ethnicity(df):\n",
    "    race = df.race_ethnicity\n",
    "    \n",
    "    if pd.isna(race):\n",
    "        return pd.NA\n",
    "    else:\n",
    "        race = race.strip().lower()\n",
    "        race_ethnicity_cleaner = {\n",
    "            'white (not of hispanic origin)': 'white',\n",
    "            'black': 'black',\n",
    "            'asian or pacific islander': 'asian/pacific islander',\n",
    "            'hispanic': 'hispanic',\n",
    "            'american indian/alaskan native': 'native american',\n",
    "            'unknown': 'unknown',\n",
    "            'black': 'black',\n",
    "            'hispanic': 'hispanic',\n",
    "            'asian or pacific islander': 'asian/pacific islander',\n",
    "            'unknown': 'unknown',\n",
    "            'two or more races': 'multiracial',\n",
    "            'asian': 'asian/pacific islander',\n",
    "            'hawaiian or pacific islander': 'asian/pacific islander',\n",
    "            'white': 'white',\n",
    "            'american indian or alaskan native': 'native american',\n",
    "            'black or african american': 'black',\n",
    "            'hispanic or latino of any race': 'hispanic',\n",
    "            'two or more races': 'multiracial',\n",
    "            'asian': 'asian/pacific islander',\n",
    "            'native hawaiian or other pacific': 'asian/pacific islander',\n",
    "        }\n",
    "    \n",
    "    return race_ethnicity_cleaner[race]"
   ]
  },
  {
   "cell_type": "code",
   "execution_count": 72,
   "id": "d9c61a7d-3ebd-47bb-8cae-274de0b3befe",
   "metadata": {},
   "outputs": [
    {
     "data": {
      "text/html": [
       "<div>\n",
       "<style scoped>\n",
       "    .dataframe tbody tr th:only-of-type {\n",
       "        vertical-align: middle;\n",
       "    }\n",
       "\n",
       "    .dataframe tbody tr th {\n",
       "        vertical-align: top;\n",
       "    }\n",
       "\n",
       "    .dataframe thead th {\n",
       "        text-align: right;\n",
       "    }\n",
       "</style>\n",
       "<table border=\"1\" class=\"dataframe\">\n",
       "  <thead>\n",
       "    <tr style=\"text-align: right;\">\n",
       "      <th></th>\n",
       "      <th>clean_name</th>\n",
       "      <th>gender</th>\n",
       "      <th>clean_race_ethnicity</th>\n",
       "      <th>count</th>\n",
       "    </tr>\n",
       "  </thead>\n",
       "  <tbody>\n",
       "    <tr>\n",
       "      <th>0</th>\n",
       "      <td>a adrienne ewing-roush</td>\n",
       "      <td>F</td>\n",
       "      <td>black</td>\n",
       "      <td>8</td>\n",
       "    </tr>\n",
       "    <tr>\n",
       "      <th>1</th>\n",
       "      <td>a aldea lopez luis</td>\n",
       "      <td>M</td>\n",
       "      <td>hispanic</td>\n",
       "      <td>7</td>\n",
       "    </tr>\n",
       "    <tr>\n",
       "      <th>2</th>\n",
       "      <td>a alexander judy</td>\n",
       "      <td>F</td>\n",
       "      <td>white</td>\n",
       "      <td>1</td>\n",
       "    </tr>\n",
       "    <tr>\n",
       "      <th>3</th>\n",
       "      <td>a ali boone j james</td>\n",
       "      <td>M</td>\n",
       "      <td>black</td>\n",
       "      <td>2</td>\n",
       "    </tr>\n",
       "    <tr>\n",
       "      <th>4</th>\n",
       "      <td>a alisha meeks</td>\n",
       "      <td>F</td>\n",
       "      <td>white</td>\n",
       "      <td>1</td>\n",
       "    </tr>\n",
       "    <tr>\n",
       "      <th>...</th>\n",
       "      <td>...</td>\n",
       "      <td>...</td>\n",
       "      <td>...</td>\n",
       "      <td>...</td>\n",
       "    </tr>\n",
       "    <tr>\n",
       "      <th>3854</th>\n",
       "      <td>todd w watson</td>\n",
       "      <td>M</td>\n",
       "      <td>white</td>\n",
       "      <td>12</td>\n",
       "    </tr>\n",
       "    <tr>\n",
       "      <th>3855</th>\n",
       "      <td>trevor vondohlen w</td>\n",
       "      <td>M</td>\n",
       "      <td>white</td>\n",
       "      <td>9</td>\n",
       "    </tr>\n",
       "    <tr>\n",
       "      <th>3856</th>\n",
       "      <td>vanbergen william zachary</td>\n",
       "      <td>M</td>\n",
       "      <td>white</td>\n",
       "      <td>3</td>\n",
       "    </tr>\n",
       "    <tr>\n",
       "      <th>3857</th>\n",
       "      <td>waters william z</td>\n",
       "      <td>M</td>\n",
       "      <td>white</td>\n",
       "      <td>12</td>\n",
       "    </tr>\n",
       "    <tr>\n",
       "      <th>3858</th>\n",
       "      <td>xin xu</td>\n",
       "      <td>M</td>\n",
       "      <td>asian/pacific islander</td>\n",
       "      <td>1</td>\n",
       "    </tr>\n",
       "  </tbody>\n",
       "</table>\n",
       "<p>3859 rows × 4 columns</p>\n",
       "</div>"
      ],
      "text/plain": [
       "                     clean_name gender    clean_race_ethnicity  count\n",
       "0        a adrienne ewing-roush      F                   black      8\n",
       "1            a aldea lopez luis      M                hispanic      7\n",
       "2              a alexander judy      F                   white      1\n",
       "3           a ali boone j james      M                   black      2\n",
       "4                a alisha meeks      F                   white      1\n",
       "...                         ...    ...                     ...    ...\n",
       "3854              todd w watson      M                   white     12\n",
       "3855         trevor vondohlen w      M                   white      9\n",
       "3856  vanbergen william zachary      M                   white      3\n",
       "3857           waters william z      M                   white     12\n",
       "3858                     xin xu      M  asian/pacific islander      1\n",
       "\n",
       "[3859 rows x 4 columns]"
      ]
     },
     "execution_count": 72,
     "metadata": {},
     "output_type": "execute_result"
    }
   ],
   "source": [
    "staff_roster_csv = os.path.join(processed_dir, 'staff_roster_cleaned.csv')\n",
    "staff_roster_df = pd.read_csv(staff_roster_csv)\n",
    "\n",
    "\n",
    "staff_roster_df['clean_name'] = staff_roster_df.apply(\n",
    "    strip_text,\n",
    "    axis=1\n",
    ")\n",
    "staff_roster_df['clean_race_ethnicity'] = staff_roster_df.apply(clean_race_ethnicity, axis=1)\n",
    "\n",
    "staff_roster_df.groupby(\n",
    "    ['clean_name', 'gender', 'clean_race_ethnicity']\n",
    ").size().reset_index().rename(columns={0:'count'})"
   ]
  },
  {
   "cell_type": "code",
   "execution_count": 86,
   "id": "47c4bd9f-66ef-4267-bd31-a82b44704100",
   "metadata": {},
   "outputs": [
    {
     "data": {
      "text/plain": [
       "M    17829\n",
       "F     5816\n",
       "Name: gender, dtype: int64"
      ]
     },
     "execution_count": 86,
     "metadata": {},
     "output_type": "execute_result"
    }
   ],
   "source": [
    "staff_roster_df.gender.value_counts()"
   ]
  },
  {
   "cell_type": "code",
   "execution_count": 74,
   "id": "d059330a-0bf2-47bd-9dad-cfd62f01fe3b",
   "metadata": {},
   "outputs": [
    {
     "data": {
      "text/plain": [
       "white                     18250\n",
       "black                      4384\n",
       "hispanic                    423\n",
       "asian/pacific islander      284\n",
       "multiracial                 257\n",
       "native american              30\n",
       "unknown                      15\n",
       "Name: clean_race_ethnicity, dtype: int64"
      ]
     },
     "execution_count": 74,
     "metadata": {},
     "output_type": "execute_result"
    }
   ],
   "source": [
    "staff_roster_df.clean_race_ethnicity.value_counts()"
   ]
  },
  {
   "cell_type": "code",
   "execution_count": 82,
   "id": "1f0ddc62-a30c-46c4-94f2-c19cf6f81bdd",
   "metadata": {},
   "outputs": [],
   "source": [
    "from fuzzywuzzy import fuzz"
   ]
  },
  {
   "cell_type": "code",
   "execution_count": 85,
   "id": "1523b233-dd7f-4a07-8167-a12478e8573c",
   "metadata": {},
   "outputs": [
    {
     "name": "stdout",
     "output_type": "stream",
     "text": [
      "daniel bowling\n",
      "[('bowling daniel j', 93), ('brown daniel j', 79), ('bowling t wade', 71), ('bossing janice k', 67), ('cole daniel e', 67)]\n",
      "----\n",
      "kevin breeding\n",
      "[('breeding kevin l', 93), ('j keating kevin', 69), ('frei kevin l', 69), ('brown kevin m', 67), ('b coleman kevin', 62)]\n",
      "----\n",
      "aaron thomas\n",
      "[('aaron sr thomas', 89), ('aaron ii thomas', 89), ('adam r thomas', 80), ('a jackson thomas', 79), ('h rowan thomas', 77)]\n",
      "----\n",
      "aaron jones\n",
      "[('aaron jones l', 92), ('anton jones x', 75), ('a gregory jones', 69), ('dhana jones k', 67), ('g jonathan jones', 67)]\n",
      "----\n",
      "aaron wigginton\n",
      "[('aaron r wigginton', 94), ('aaron ii thomas', 67), ('arnold n whitney', 58), ('allen jerron washington', 58), ('aaron jones l', 57)]\n",
      "----\n",
      "jeffrey moseley\n",
      "[('jeffery moseley t', 88), ('jeremy moseley t', 84), ('jeffrey massey s', 77), ('jeffrey l poole', 73), ('jeffrey mitchell t', 67)]\n",
      "----\n",
      "aaron thomas ii\n",
      "[('aaron ii thomas', 100), ('aaron sr thomas', 87), ('anthony e ii thomas', 76), ('barnes e thomas', 73), ('a jackson thomas', 71)]\n",
      "----\n",
      "aaron thomas sr\n",
      "[('aaron sr thomas', 100), ('aaron ii thomas', 87), ('adam r thomas', 79), ('bowden s thomas', 73), ('barnes e thomas', 73)]\n",
      "----\n",
      "abbey sawl\n",
      "[('abbey m sawl', 91), ('a kenya small', 61), ('baney joshua l', 58), ('abernathy joshua l', 57), ('casey koza l', 55)]\n",
      "----\n",
      "abigail malone\n",
      "[('abigail m malone', 93), ('charles david malone', 59), ('adam daniel masle', 58), ('a chad mahoney', 57), ('a avila marcos', 57)]\n",
      "----\n",
      "ada thaxter\n",
      "[('ada m thaxter', 92), ('adam parker', 64), ('adam gartner w', 64), ('adam crutcher d', 62), ('a cothran walter', 59)]\n",
      "----\n",
      "adam reese\n",
      "[('adam g reese', 91), ('adam c weeks', 73), ('craig d reese', 70), ('james r reese', 70), ('april m reese', 70)]\n",
      "----\n",
      "adam read\n",
      "[('adam d read', 90), ('adam parker', 70), ('david f read', 67), ('adam g reese', 67), ('adam earle t', 67)]\n",
      "----\n",
      "adam davis\n",
      "[('adam d read', 67), ('andrew davis j', 67), ('d davis lee', 67), ('adam daniel masle', 67), ('jamal jarvis', 64)]\n",
      "----\n",
      "adam thomas\n",
      "[('adam r thomas', 92), ('laura thomas', 78), ('j odom thomas', 75), ('f james thomas', 72), ('e james thomas', 72)]\n",
      "----\n",
      "adam weeks\n",
      "[('adam c weeks', 91), ('adam g reese', 73), ('adam earle t', 64), ('d jonathan weeks', 62), ('a alisha meeks', 58)]\n",
      "----\n",
      "adam parker\n",
      "[('adam parker', 100), ('adam gartner w', 72), ('adam earle t', 70), ('ada m thaxter', 67), ('adam d read', 64)]\n",
      "----\n",
      "adam earle\n",
      "[('adam earle t', 91), ('adam parker', 76), ('adam d read', 67), ('adam gartner w', 67), ('adam daniel masle', 67)]\n",
      "----\n",
      "adam crutcher\n",
      "[('adam crutcher d', 93), ('ada m thaxter', 69), ('adam parker', 67), ('adam gartner w', 67), ('a brenda carothers', 65)]\n",
      "----\n",
      "adam gartner\n",
      "[('adam gartner w', 92), ('adam parker', 78), ('ada m thaxter', 72), ('adam g reese', 67), ('adam earle t', 67)]\n",
      "----\n"
     ]
    }
   ],
   "source": [
    "incident_unique_names = incident_df.clean_name.dropna().unique()\n",
    "\n",
    "roster_unique_names = staff_roster_df.clean_name.dropna().unique()\n",
    "\n",
    "for name in incident_unique_names[0:20]:\n",
    "    results = process.extract(\n",
    "        name,\n",
    "        roster_unique_names,\n",
    "        limit=5,\n",
    "        scorer=fuzz.token_sort_ratio\n",
    "    )\n",
    "    print(name)\n",
    "    print(results)\n",
    "    print('----')"
   ]
  },
  {
   "cell_type": "code",
   "execution_count": null,
   "id": "0dde3633-e035-478e-9074-ccc461e874d6",
   "metadata": {},
   "outputs": [],
   "source": []
  }
 ],
 "metadata": {
  "kernelspec": {
   "display_name": "nashville-discipline",
   "language": "python",
   "name": "nashville-discipline"
  },
  "language_info": {
   "codemirror_mode": {
    "name": "ipython",
    "version": 3
   },
   "file_extension": ".py",
   "mimetype": "text/x-python",
   "name": "python",
   "nbconvert_exporter": "python",
   "pygments_lexer": "ipython3",
   "version": "3.8.1"
  }
 },
 "nbformat": 4,
 "nbformat_minor": 5
}
