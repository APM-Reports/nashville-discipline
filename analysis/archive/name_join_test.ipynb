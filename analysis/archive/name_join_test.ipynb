{
 "cells": [
  {
   "cell_type": "code",
   "execution_count": 2,
   "id": "e76b2258-ed06-45ae-b850-22ea98144941",
   "metadata": {},
   "outputs": [],
   "source": [
    "import os\n",
    "import pandas as pd\n",
    "import altair as alt\n",
    "\n",
    "cwd = os.getcwd()\n",
    "data_dir = os.path.join(cwd, 'data')\n",
    "source_dir = os.path.join(data_dir,'source')\n",
    "processed_dir = os.path.join(data_dir, 'processed')\n",
    "pkl_dir = os.path.join(processed_dir,'pkl')\n",
    "\n",
    "# Data has been cleaned and saved as a pickle \n",
    "discipline_pkl = os.path.join(pkl_dir, 'cleaned_new_discipline_data.pkl')\n",
    "discipline_df = pd.read_pickle(discipline_pkl)\n",
    "\n",
    "# the discipline data that is one-row-per-incident\n",
    "incident_xlsx = os.path.join(source_dir, '2010-2020.xlsx')\n",
    "incident_df = pd.read_excel(incident_xlsx)"
   ]
  },
  {
   "cell_type": "code",
   "execution_count": 3,
   "id": "ea111e96-e059-46a8-9a02-59cb38a13bf8",
   "metadata": {},
   "outputs": [],
   "source": [
    "unique_officers = discipline_df.groupby(\n",
    "    [\n",
    "        'first_name',\n",
    "        'last_name',\n",
    "    ]\n",
    ").agg(\n",
    "    {'officer_employee_num':'nunique'}\n",
    ").reset_index()\n",
    "\n",
    "unique_officers.to_csv('unique_officers.csv')"
   ]
  },
  {
   "cell_type": "markdown",
   "id": "0ba5766c-311e-4730-9599-61dd9889edb3",
   "metadata": {},
   "source": []
  },
  {
   "cell_type": "code",
   "execution_count": 4,
   "id": "0f8c19b8-1590-445a-add4-42e363e84779",
   "metadata": {},
   "outputs": [
    {
     "data": {
      "text/html": [
       "<div>\n",
       "<style scoped>\n",
       "    .dataframe tbody tr th:only-of-type {\n",
       "        vertical-align: middle;\n",
       "    }\n",
       "\n",
       "    .dataframe tbody tr th {\n",
       "        vertical-align: top;\n",
       "    }\n",
       "\n",
       "    .dataframe thead th {\n",
       "        text-align: right;\n",
       "    }\n",
       "</style>\n",
       "<table border=\"1\" class=\"dataframe\">\n",
       "  <thead>\n",
       "    <tr style=\"text-align: right;\">\n",
       "      <th></th>\n",
       "      <th>first_name</th>\n",
       "      <th>last_name</th>\n",
       "      <th>officer_employee_num</th>\n",
       "      <th>allegation</th>\n",
       "    </tr>\n",
       "  </thead>\n",
       "  <tbody>\n",
       "    <tr>\n",
       "      <th>0</th>\n",
       "      <td>0John</td>\n",
       "      <td>09Hatcher Jr</td>\n",
       "      <td>226016</td>\n",
       "      <td>7</td>\n",
       "    </tr>\n",
       "    <tr>\n",
       "      <th>1</th>\n",
       "      <td>Aaron</td>\n",
       "      <td>Jones</td>\n",
       "      <td>562543</td>\n",
       "      <td>29</td>\n",
       "    </tr>\n",
       "    <tr>\n",
       "      <th>2</th>\n",
       "      <td>Aaron</td>\n",
       "      <td>Thomas II</td>\n",
       "      <td>433764</td>\n",
       "      <td>19</td>\n",
       "    </tr>\n",
       "    <tr>\n",
       "      <th>3</th>\n",
       "      <td>Aaron</td>\n",
       "      <td>Thomas Sr</td>\n",
       "      <td>226641</td>\n",
       "      <td>14</td>\n",
       "    </tr>\n",
       "    <tr>\n",
       "      <th>4</th>\n",
       "      <td>Aaron</td>\n",
       "      <td>Wigginton</td>\n",
       "      <td>226175</td>\n",
       "      <td>4</td>\n",
       "    </tr>\n",
       "    <tr>\n",
       "      <th>...</th>\n",
       "      <td>...</td>\n",
       "      <td>...</td>\n",
       "      <td>...</td>\n",
       "      <td>...</td>\n",
       "    </tr>\n",
       "    <tr>\n",
       "      <th>2586</th>\n",
       "      <td>Zachary</td>\n",
       "      <td>Plese</td>\n",
       "      <td>311325</td>\n",
       "      <td>1</td>\n",
       "    </tr>\n",
       "    <tr>\n",
       "      <th>2587</th>\n",
       "      <td>Zachary</td>\n",
       "      <td>Ronan</td>\n",
       "      <td>161942</td>\n",
       "      <td>5</td>\n",
       "    </tr>\n",
       "    <tr>\n",
       "      <th>2588</th>\n",
       "      <td>Zachary</td>\n",
       "      <td>Scott</td>\n",
       "      <td>279206</td>\n",
       "      <td>2</td>\n",
       "    </tr>\n",
       "    <tr>\n",
       "      <th>2589</th>\n",
       "      <td>Zachary</td>\n",
       "      <td>White</td>\n",
       "      <td>151136</td>\n",
       "      <td>9</td>\n",
       "    </tr>\n",
       "    <tr>\n",
       "      <th>2590</th>\n",
       "      <td>Zaire</td>\n",
       "      <td>Murray</td>\n",
       "      <td>337277</td>\n",
       "      <td>1</td>\n",
       "    </tr>\n",
       "  </tbody>\n",
       "</table>\n",
       "<p>2591 rows × 4 columns</p>\n",
       "</div>"
      ],
      "text/plain": [
       "     first_name     last_name officer_employee_num  allegation\n",
       "0         0John  09Hatcher Jr               226016           7\n",
       "1         Aaron         Jones               562543          29\n",
       "2         Aaron     Thomas II               433764          19\n",
       "3         Aaron     Thomas Sr               226641          14\n",
       "4         Aaron     Wigginton               226175           4\n",
       "...         ...           ...                  ...         ...\n",
       "2586    Zachary         Plese               311325           1\n",
       "2587    Zachary         Ronan               161942           5\n",
       "2588    Zachary         Scott               279206           2\n",
       "2589    Zachary         White               151136           9\n",
       "2590      Zaire        Murray               337277           1\n",
       "\n",
       "[2591 rows x 4 columns]"
      ]
     },
     "execution_count": 4,
     "metadata": {},
     "output_type": "execute_result"
    }
   ],
   "source": [
    "discipline_df.groupby(\n",
    "    [\n",
    "        'first_name',\n",
    "        'last_name',\n",
    "        'officer_employee_num'\n",
    "        #'allegation'\n",
    "    ]\n",
    ").agg(\n",
    "    {'allegation':'nunique'}\n",
    ").reset_index()"
   ]
  },
  {
   "cell_type": "markdown",
   "id": "15f285af-f193-4f4a-b0bb-22987467edd5",
   "metadata": {},
   "source": [
    "# TO DO \n",
    "# join w/ fuzzy string matching the new name + race data to the old incident data. "
   ]
  },
  {
   "cell_type": "code",
   "execution_count": 5,
   "id": "cd51d60d-9c40-4a45-8478-450a79350450",
   "metadata": {},
   "outputs": [],
   "source": [
    "from fuzzywuzzy import process"
   ]
  },
  {
   "cell_type": "code",
   "execution_count": 6,
   "id": "9d0f2679-9169-4cc5-9435-d5d03b470093",
   "metadata": {},
   "outputs": [],
   "source": [
    "discipline_df['full_name'] = discipline_df['first_name'] + ' ' + discipline_df['last_name']\n",
    "incident_df['full_name'] = incident_df['EMPLOYEE FIRST NAME'] + ' ' + incident_df['EMPLOYEE LAST NAME']"
   ]
  },
  {
   "cell_type": "code",
   "execution_count": 7,
   "id": "362988d0-9f7d-452e-b9e3-d0a171a9e2eb",
   "metadata": {},
   "outputs": [],
   "source": [
    "discipline_list = list(discipline_df['full_name'].unique())"
   ]
  },
  {
   "cell_type": "code",
   "execution_count": 8,
   "id": "05bd1fac-3a9c-4096-9ec2-8ef16f540188",
   "metadata": {},
   "outputs": [],
   "source": [
    "incident_name_list = list(incident_df['full_name'].unique())"
   ]
  },
  {
   "cell_type": "code",
   "execution_count": 9,
   "id": "dca347f7-1037-489a-87c0-71df4bbb591b",
   "metadata": {},
   "outputs": [
    {
     "name": "stdout",
     "output_type": "stream",
     "text": [
      "Henry Particelli\n",
      "[('HENRY PARTICELLI', 100), ('JOHN HENRY', 86), ('HENRY PHILLIPS', 73), ('WILLIAM HENRY', 66), ('DEON CARTMELL', 62)]\n",
      "Ryan Allen\n",
      "[('RYAN ALLEN', 100), ('BRIAN ALLEN', 86), ('RYAN CAGLE', 80), ('WANDA ALLEN', 76), ('RYAN COLL', 74)]\n",
      "Ryan Fink\n",
      "[('RYAN FINK', 100), ('FYAN FINK', 89), ('RYAN KOZLOWSKI', 86), ('RYAN CAULFIELD', 86), ('RYAN FINNEGAN', 73)]\n",
      "Michael Dudley\n",
      "[('MICHAEL DUDLEY', 100), ('MICHAEL LEE', 80), ('MICHAEL EBY', 80), ('MICHAEL DYE', 80), ('MICHAEL BUTLER', 79)]\n",
      "Timothy Durham\n",
      "[('TIMOTHY DURHAM', 100), ('TIMOTHY MORGAN', 71), ('TIMOTHY REID', 70), ('TIMOTHY MEAD', 70), ('TIMOTHY WARD', 70)]\n",
      "Adam Thomas\n",
      "[('ADAM THOMAS', 100), ('AARON THOMAS', 78), ('JAMES THOMAS', 78), ('LAURA THOMAS', 78), ('THOMAS ODOM', 78)]\n",
      "George Oden\n",
      "[('GEORGE ODEN', 100), ('GEORGE BOUTON', 75), ('GEORGE GANT', 73), ('GEORGE WARD', 73), ('GEORGE SPENCER', 72)]\n",
      "Bryan Moore\n",
      "[('BRYAN MOORE', 100), ('BRYAN CRUTCHFIELD', 86), ('BRANDON MOORE', 83), ('RANDALL MOORE', 75), ('RYAN COE', 74)]\n",
      "Michael Evans\n",
      "[('MICHAEL EVANS', 100), ('MICHAEL EVA', 92), ('MICHAEL NIEVES', 81), ('MICHAEL ADKINS', 81), ('MICHAEL VAUGHN', 81)]\n",
      "Christopher Taylor\n",
      "[('CHRISTOPHER TAYLOR', 100), ('CHRSTOPHER TAYLOR', 97), ('CHRISTOPHER LO', 88), ('ALLEN TAYLOR', 86), ('AMY TAYLOR', 86)]\n"
     ]
    }
   ],
   "source": [
    "for name in discipline_list[0:10]:\n",
    "    print(name)\n",
    "    print(process.extract(name, incident_name_list, limit=5))"
   ]
  },
  {
   "cell_type": "code",
   "execution_count": 10,
   "id": "1c8f6724-fc95-41a1-b334-86b400142c1e",
   "metadata": {},
   "outputs": [
    {
     "data": {
      "text/html": [
       "<div>\n",
       "<style scoped>\n",
       "    .dataframe tbody tr th:only-of-type {\n",
       "        vertical-align: middle;\n",
       "    }\n",
       "\n",
       "    .dataframe tbody tr th {\n",
       "        vertical-align: top;\n",
       "    }\n",
       "\n",
       "    .dataframe thead th {\n",
       "        text-align: right;\n",
       "    }\n",
       "</style>\n",
       "<table border=\"1\" class=\"dataframe\">\n",
       "  <thead>\n",
       "    <tr style=\"text-align: right;\">\n",
       "      <th></th>\n",
       "      <th>full_name</th>\n",
       "      <th>officer_employee_num</th>\n",
       "      <th>date_hired</th>\n",
       "    </tr>\n",
       "  </thead>\n",
       "  <tbody>\n",
       "    <tr>\n",
       "      <th>6926</th>\n",
       "      <td>Joseph Smith</td>\n",
       "      <td>224793</td>\n",
       "      <td>1995-10-01</td>\n",
       "    </tr>\n",
       "    <tr>\n",
       "      <th>7995</th>\n",
       "      <td>Joseph Smith</td>\n",
       "      <td>268179</td>\n",
       "      <td>2000-05-01</td>\n",
       "    </tr>\n",
       "  </tbody>\n",
       "</table>\n",
       "</div>"
      ],
      "text/plain": [
       "         full_name officer_employee_num date_hired\n",
       "6926  Joseph Smith               224793 1995-10-01\n",
       "7995  Joseph Smith               268179 2000-05-01"
      ]
     },
     "execution_count": 10,
     "metadata": {},
     "output_type": "execute_result"
    }
   ],
   "source": [
    "unique_officers_2 = discipline_df[\n",
    "    ['full_name','officer_employee_num', 'date_hired']\n",
    "].drop_duplicates()\n",
    "\n",
    "unique_officers_2[unique_officers_2.full_name=='Joseph Smith']"
   ]
  },
  {
   "cell_type": "code",
   "execution_count": 34,
   "id": "933d346b-b20a-43c8-a09c-9024b82586e2",
   "metadata": {},
   "outputs": [
    {
     "data": {
      "text/html": [
       "<div>\n",
       "<style scoped>\n",
       "    .dataframe tbody tr th:only-of-type {\n",
       "        vertical-align: middle;\n",
       "    }\n",
       "\n",
       "    .dataframe tbody tr th {\n",
       "        vertical-align: top;\n",
       "    }\n",
       "\n",
       "    .dataframe thead th {\n",
       "        text-align: right;\n",
       "    }\n",
       "</style>\n",
       "<table border=\"1\" class=\"dataframe\">\n",
       "  <thead>\n",
       "    <tr style=\"text-align: right;\">\n",
       "      <th></th>\n",
       "      <th>index</th>\n",
       "      <th>full_name</th>\n",
       "    </tr>\n",
       "  </thead>\n",
       "  <tbody>\n",
       "    <tr>\n",
       "      <th>49</th>\n",
       "      <td>James Pearce</td>\n",
       "      <td>1</td>\n",
       "    </tr>\n",
       "    <tr>\n",
       "      <th>50</th>\n",
       "      <td>William Kautzman</td>\n",
       "      <td>1</td>\n",
       "    </tr>\n",
       "    <tr>\n",
       "      <th>51</th>\n",
       "      <td>Jonathan Riggs</td>\n",
       "      <td>1</td>\n",
       "    </tr>\n",
       "    <tr>\n",
       "      <th>52</th>\n",
       "      <td>Samuel Kersten</td>\n",
       "      <td>1</td>\n",
       "    </tr>\n",
       "    <tr>\n",
       "      <th>53</th>\n",
       "      <td>Mitchell Tolzmann</td>\n",
       "      <td>1</td>\n",
       "    </tr>\n",
       "    <tr>\n",
       "      <th>...</th>\n",
       "      <td>...</td>\n",
       "      <td>...</td>\n",
       "    </tr>\n",
       "    <tr>\n",
       "      <th>2559</th>\n",
       "      <td>Charles Widener</td>\n",
       "      <td>1</td>\n",
       "    </tr>\n",
       "    <tr>\n",
       "      <th>2560</th>\n",
       "      <td>Bryce Hatten</td>\n",
       "      <td>1</td>\n",
       "    </tr>\n",
       "    <tr>\n",
       "      <th>2561</th>\n",
       "      <td>Thomas Broatch</td>\n",
       "      <td>1</td>\n",
       "    </tr>\n",
       "    <tr>\n",
       "      <th>2562</th>\n",
       "      <td>Michael Freels</td>\n",
       "      <td>1</td>\n",
       "    </tr>\n",
       "    <tr>\n",
       "      <th>2563</th>\n",
       "      <td>Brad Houser</td>\n",
       "      <td>1</td>\n",
       "    </tr>\n",
       "  </tbody>\n",
       "</table>\n",
       "<p>2515 rows × 2 columns</p>\n",
       "</div>"
      ],
      "text/plain": [
       "                  index  full_name\n",
       "49         James Pearce          1\n",
       "50     William Kautzman          1\n",
       "51       Jonathan Riggs          1\n",
       "52       Samuel Kersten          1\n",
       "53    Mitchell Tolzmann          1\n",
       "...                 ...        ...\n",
       "2559    Charles Widener          1\n",
       "2560       Bryce Hatten          1\n",
       "2561     Thomas Broatch          1\n",
       "2562     Michael Freels          1\n",
       "2563        Brad Houser          1\n",
       "\n",
       "[2515 rows x 2 columns]"
      ]
     },
     "execution_count": 34,
     "metadata": {},
     "output_type": "execute_result"
    }
   ],
   "source": [
    "df = unique_officers_2.full_name.value_counts().reset_index()\n",
    "\n",
    "df[df.full_name==1]"
   ]
  },
  {
   "cell_type": "code",
   "execution_count": 30,
   "id": "d8d446b1-88c8-4a74-a1ad-a8d1e125369c",
   "metadata": {},
   "outputs": [
    {
     "data": {
      "text/plain": [
       "0.0196"
      ]
     },
     "execution_count": 30,
     "metadata": {},
     "output_type": "execute_result"
    }
   ],
   "source": [
    "49/2500"
   ]
  },
  {
   "cell_type": "code",
   "execution_count": null,
   "id": "ed2c2714-9f2c-4d24-85cd-afe2982dd1de",
   "metadata": {},
   "outputs": [],
   "source": []
  }
 ],
 "metadata": {
  "kernelspec": {
   "display_name": "nashville-discipline",
   "language": "python",
   "name": "nashville-discipline"
  },
  "language_info": {
   "codemirror_mode": {
    "name": "ipython",
    "version": 3
   },
   "file_extension": ".py",
   "mimetype": "text/x-python",
   "name": "python",
   "nbconvert_exporter": "python",
   "pygments_lexer": "ipython3",
   "version": "3.8.1"
  }
 },
 "nbformat": 4,
 "nbformat_minor": 5
}
