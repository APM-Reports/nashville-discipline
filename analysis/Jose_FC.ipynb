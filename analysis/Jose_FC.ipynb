{
 "cells": [
  {
   "cell_type": "markdown",
   "id": "8d702dd2-0fa2-4f96-b6c4-6471757c8d2a",
   "metadata": {},
   "source": [
    "# Fact-Checking Findings\n",
    "\n",
    "[Findings from José](https://docs.google.com/document/d/1fe0SxvyPyrN9eK5DnAuF5THvyeiOxMf1gTUl615MSU4/edit?usp=sharinghttps://docs.google.com/document/d/1fe0SxvyPyrN9eK5DnAuF5THvyeiOxMf1gTUl615MSU4/edit?usp=sharing)\n",
    "\n",
    "[Findings from Will](https://docs.google.com/document/d/13pe-Y1Gd2NyWCqGBmcDJUq8CRBrcrMa1O50-meezV-M/edit?usp=sharinghttps://docs.google.com/document/d/13pe-Y1Gd2NyWCqGBmcDJUq8CRBrcrMa1O50-meezV-M/edit?usp=sharing)"
   ]
  },
  {
   "cell_type": "code",
   "execution_count": 1,
   "id": "85aa3abe-b202-4cc6-b197-d40c1c090867",
   "metadata": {
    "jupyter": {
     "source_hidden": true
    },
    "tags": []
   },
   "outputs": [],
   "source": [
    "import os\n",
    "import pandas as pd\n",
    "import altair as alt\n",
    "\n",
    "data_dir = os.path.join(cwd, 'data')\n",
    "processed_dir = os.path.join(data_dir, 'processed')\n",
    "discipline_csv = os.path.join(processed_dir, 'cleaned_discipline_final.csv')\n",
    "staff_roster_csv = os.path.join(processed_dir, 'staff_roster_cleaned.csv')"
   ]
  },
  {
   "cell_type": "code",
   "execution_count": 2,
   "id": "00161248-6e2e-43dc-93eb-d0116bedabb1",
   "metadata": {
    "jupyter": {
     "source_hidden": true
    },
    "tags": []
   },
   "outputs": [
    {
     "name": "stdout",
     "output_type": "stream",
     "text": [
      "<class 'pandas.core.frame.DataFrame'>\n",
      "Int64Index: 12502 entries, 31 to 12895\n",
      "Data columns (total 10 columns):\n",
      " #   Column                  Non-Null Count  Dtype         \n",
      "---  ------                  --------------  -----         \n",
      " 0   control_number          12501 non-null  object        \n",
      " 1   final_disposition_date  12502 non-null  datetime64[ns]\n",
      " 2   final_disposition       12502 non-null  object        \n",
      " 3   final_number_of_days    2620 non-null   float64       \n",
      " 4   dirty_full_name         12502 non-null  object        \n",
      " 5   clean_roster_name       12502 non-null  object        \n",
      " 6   officer_gender          12502 non-null  object        \n",
      " 7   officer_race            12502 non-null  object        \n",
      " 8   allegation              12498 non-null  object        \n",
      " 9   year                    12502 non-null  int64         \n",
      "dtypes: datetime64[ns](1), float64(1), int64(1), object(7)\n",
      "memory usage: 1.0+ MB\n"
     ]
    }
   ],
   "source": [
    "# variables for importing the data\n",
    "\n",
    "columns = {\n",
    "    'CONTROL #': 'control_number',\n",
    "    'FINAL DISP DATE': 'final_disposition_date',\n",
    "    'FINAL DISPOSITION': 'final_disposition',\n",
    "    'FINAL # DAYS': 'final_number_of_days',\n",
    "    'EMPLOYEE LAST NAME': 'last_name',\n",
    "    'EMPLOYEE FIRST NAME': 'first_name',\n",
    "    'ALLEGATION': 'allegation',\n",
    "    'COMP SEX': 'complaintant_gender',\n",
    "    'COMP RACE': 'complaintant_race',\n",
    "    'full_name': 'dirty_full_name',\n",
    "    'clean_name_x': 'clean_discipline_name',\n",
    "    'roster_name_match': 'clean_roster_name',\n",
    "    'gender': 'officer_gender',\n",
    "    'clean_race_ethnicity': 'officer_race',\n",
    "}\n",
    "\n",
    "discipline_df = pd.read_csv(\n",
    "    discipline_csv,\n",
    "    parse_dates = ['FINAL DISP DATE'],\n",
    "    dtype = {'CONTROL #': 'object'}\n",
    ")\n",
    "discipline_df = discipline_df.rename(columns=columns)\n",
    "\n",
    "# keep only a selection of the columns to make things easier to work with\n",
    "discipline_df = discipline_df[[\n",
    "    'control_number',\n",
    "    'final_disposition_date',\n",
    "    'final_disposition',\n",
    "    'final_number_of_days',\n",
    "    'dirty_full_name',\n",
    "    'clean_roster_name',\n",
    "    'officer_gender',\n",
    "    'officer_race',\n",
    "    'allegation'\n",
    "]].copy()\n",
    "\n",
    "discipline_df['year'] = discipline_df.apply(\n",
    "    lambda x: x['final_disposition_date'].year,\n",
    "    axis=1\n",
    ")\n",
    "\n",
    "discipline_final = discipline_df[\n",
    "    (discipline_df.officer_race!='unknown') & (discipline_df.clean_roster_name!='no match') & ~(discipline_df.officer_race.isna())\n",
    "].copy()\n",
    "\n",
    "discipline_final.info()"
   ]
  },
  {
   "cell_type": "code",
   "execution_count": 3,
   "id": "2919070f-f6a0-4cd0-97c1-f756d4d23317",
   "metadata": {
    "jupyter": {
     "source_hidden": true
    },
    "tags": []
   },
   "outputs": [
    {
     "name": "stdout",
     "output_type": "stream",
     "text": [
      "<class 'pandas.core.frame.DataFrame'>\n",
      "RangeIndex: 23645 entries, 0 to 23644\n",
      "Data columns (total 9 columns):\n",
      " #   Column                Non-Null Count  Dtype         \n",
      "---  ------                --------------  -----         \n",
      " 0   name                  23645 non-null  object        \n",
      " 1   job_desc              23645 non-null  object        \n",
      " 2   dept_desc             23645 non-null  object        \n",
      " 3   gender                23645 non-null  object        \n",
      " 4   race_ethnicity        23643 non-null  object        \n",
      " 5   date_started          23644 non-null  datetime64[ns]\n",
      " 6   year                  23645 non-null  int64         \n",
      " 7   clean_name            23645 non-null  object        \n",
      " 8   clean_race_ethnicity  23643 non-null  object        \n",
      "dtypes: datetime64[ns](1), int64(1), object(7)\n",
      "memory usage: 1.6+ MB\n"
     ]
    }
   ],
   "source": [
    "staff_roster_df = pd.read_csv(\n",
    "    staff_roster_csv,\n",
    "    parse_dates=['date_started']\n",
    ")\n",
    "\n",
    "\n",
    "staff_roster_df.info()"
   ]
  },
  {
   "cell_type": "markdown",
   "id": "8d1efb55-5c3b-4394-9218-14214ab8d17a",
   "metadata": {
    "tags": []
   },
   "source": [
    "## Demographics"
   ]
  },
  {
   "cell_type": "markdown",
   "id": "970bf6fb-9149-4a2f-941b-20bed9eac056",
   "metadata": {},
   "source": [
    "✅ - Looking at the roster data, officer amount has ranged between roughly 1800 and 2100 per year from 2010 to 2021.\n",
    "\n",
    "✅ Max - 2105 in 2018.\n",
    "\n",
    "✅ Min - 1816 in 2011\n"
   ]
  },
  {
   "cell_type": "code",
   "execution_count": 5,
   "id": "2d0a2d08-0e06-42e4-a0f4-3004b2c65e18",
   "metadata": {},
   "outputs": [
    {
     "data": {
      "text/plain": [
       "year\n",
       "2010    1902\n",
       "2011    1816\n",
       "2012    2029\n",
       "2013    1933\n",
       "2014    1930\n",
       "2015    1954\n",
       "2016    2014\n",
       "2017    2024\n",
       "2018    2105\n",
       "2019    1974\n",
       "2020    1977\n",
       "2021    1987\n",
       "dtype: int64"
      ]
     },
     "execution_count": 5,
     "metadata": {},
     "output_type": "execute_result"
    }
   ],
   "source": [
    "staff_roster_df.groupby(['year']).size()"
   ]
  },
  {
   "cell_type": "markdown",
   "id": "d99c8c33-d2f7-4a2c-81a8-6da1beddcdaf",
   "metadata": {},
   "source": [
    "✅ - Average 1970"
   ]
  },
  {
   "cell_type": "code",
   "execution_count": 6,
   "id": "db3ca396-f11c-4214-9031-fec8a67ce98c",
   "metadata": {},
   "outputs": [
    {
     "data": {
      "text/plain": [
       "1970.4166666666667"
      ]
     },
     "execution_count": 6,
     "metadata": {},
     "output_type": "execute_result"
    }
   ],
   "source": [
    "staff_roster_df.groupby(['year']).size().mean()"
   ]
  },
  {
   "cell_type": "code",
   "execution_count": null,
   "id": "1de93fd2-0e6c-43c6-b94e-36b43c7c4fad",
   "metadata": {},
   "outputs": [],
   "source": []
  },
  {
   "cell_type": "code",
   "execution_count": null,
   "id": "61e2a632-105d-48b0-b2ce-6f99241df214",
   "metadata": {},
   "outputs": [],
   "source": []
  },
  {
   "cell_type": "code",
   "execution_count": null,
   "id": "57f728ae-7bdd-4952-9ebe-84b23168b4fc",
   "metadata": {},
   "outputs": [],
   "source": []
  },
  {
   "cell_type": "markdown",
   "id": "8db6cc15-2fe0-47af-9026-6cd4eb0a4dfe",
   "metadata": {},
   "source": [
    "## Discipline Data"
   ]
  },
  {
   "cell_type": "markdown",
   "id": "6d9ddae9-9976-4cb3-9765-b6f6fb3eb120",
   "metadata": {},
   "source": [
    "✅  -- 8/12 corrected in the document of findings \n",
    "\n",
    "Over the past 10 years, white officers have been involved in roughly 80% of all disciplinary action while Blacks make up about 13%.\n",
    "\n",
    "-- correction: if you are going to report one number as rounded, you have to be consistent\n"
   ]
  },
  {
   "cell_type": "code",
   "execution_count": 11,
   "id": "8cc67913-4b8c-4b3e-912f-0f940c9b14b0",
   "metadata": {},
   "outputs": [
    {
     "data": {
      "text/html": [
       "<div>\n",
       "<style scoped>\n",
       "    .dataframe tbody tr th:only-of-type {\n",
       "        vertical-align: middle;\n",
       "    }\n",
       "\n",
       "    .dataframe tbody tr th {\n",
       "        vertical-align: top;\n",
       "    }\n",
       "\n",
       "    .dataframe thead th {\n",
       "        text-align: right;\n",
       "    }\n",
       "</style>\n",
       "<table border=\"1\" class=\"dataframe\">\n",
       "  <thead>\n",
       "    <tr style=\"text-align: right;\">\n",
       "      <th></th>\n",
       "      <th>total</th>\n",
       "    </tr>\n",
       "    <tr>\n",
       "      <th>officer_race</th>\n",
       "      <th></th>\n",
       "    </tr>\n",
       "  </thead>\n",
       "  <tbody>\n",
       "    <tr>\n",
       "      <th>asian/pacific islander</th>\n",
       "      <td>1.415773</td>\n",
       "    </tr>\n",
       "    <tr>\n",
       "      <th>black</th>\n",
       "      <td>13.677812</td>\n",
       "    </tr>\n",
       "    <tr>\n",
       "      <th>hispanic</th>\n",
       "      <td>1.887698</td>\n",
       "    </tr>\n",
       "    <tr>\n",
       "      <th>multiracial</th>\n",
       "      <td>2.991521</td>\n",
       "    </tr>\n",
       "    <tr>\n",
       "      <th>native american</th>\n",
       "      <td>0.063990</td>\n",
       "    </tr>\n",
       "    <tr>\n",
       "      <th>white</th>\n",
       "      <td>79.963206</td>\n",
       "    </tr>\n",
       "  </tbody>\n",
       "</table>\n",
       "</div>"
      ],
      "text/plain": [
       "                            total\n",
       "officer_race                     \n",
       "asian/pacific islander   1.415773\n",
       "black                   13.677812\n",
       "hispanic                 1.887698\n",
       "multiracial              2.991521\n",
       "native american          0.063990\n",
       "white                   79.963206"
      ]
     },
     "execution_count": 11,
     "metadata": {},
     "output_type": "execute_result"
    }
   ],
   "source": [
    "discipline_final.groupby(\n",
    "    ['officer_race']\n",
    ").size().to_frame('total') / len(discipline_final) * 100"
   ]
  },
  {
   "cell_type": "markdown",
   "id": "780069da-f4d8-476e-af75-c6203eed354e",
   "metadata": {},
   "source": [
    "✅  - there were few terminations (33)\n"
   ]
  },
  {
   "cell_type": "code",
   "execution_count": 23,
   "id": "baa0fa21-4a2f-489d-bd6f-912cc9c3a56f",
   "metadata": {},
   "outputs": [
    {
     "data": {
      "text/plain": [
       "33"
      ]
     },
     "execution_count": 23,
     "metadata": {},
     "output_type": "execute_result"
    }
   ],
   "source": [
    "len(discipline_final[\n",
    "    discipline_final.final_disposition.str.contains('TERMIN')\n",
    "])"
   ]
  },
  {
   "cell_type": "code",
   "execution_count": 26,
   "id": "c75d0757-bc7d-465f-861c-4af70ef2039a",
   "metadata": {},
   "outputs": [
    {
     "data": {
      "text/plain": [
       "TERMINATION                         24\n",
       "TERMINATED                           8\n",
       "TERMINATION, DEMOTION, SUSPENDED     1\n",
       "Name: final_disposition, dtype: int64"
      ]
     },
     "execution_count": 26,
     "metadata": {},
     "output_type": "execute_result"
    }
   ],
   "source": [
    "discipline_final[\n",
    "    discipline_final.final_disposition.str.contains('TERMIN')\n",
    "].final_disposition.value_counts()"
   ]
  },
  {
   "cell_type": "markdown",
   "id": "0d56f8ab-afa9-4bf6-823e-764691d3e7b4",
   "metadata": {},
   "source": [
    "✅ - or demotions (12)."
   ]
  },
  {
   "cell_type": "code",
   "execution_count": 24,
   "id": "79450afd-fcb4-4312-863d-89be3d8e1459",
   "metadata": {},
   "outputs": [
    {
     "data": {
      "text/plain": [
       "12"
      ]
     },
     "execution_count": 24,
     "metadata": {},
     "output_type": "execute_result"
    }
   ],
   "source": [
    "len(discipline_final[\n",
    "    discipline_final.final_disposition.str.contains('DEMOTION')\n",
    "])"
   ]
  },
  {
   "cell_type": "markdown",
   "id": "a596a6a6-8cbf-4c53-a93b-527e51e0ceeb",
   "metadata": {},
   "source": [
    "✅ - Of all 1,710 dispositions involving Black officers\n"
   ]
  },
  {
   "cell_type": "code",
   "execution_count": 29,
   "id": "f5ebc14d-5bb7-45df-ade1-20119afe294e",
   "metadata": {},
   "outputs": [
    {
     "data": {
      "text/plain": [
       "1710"
      ]
     },
     "execution_count": 29,
     "metadata": {},
     "output_type": "execute_result"
    }
   ],
   "source": [
    "len(discipline_final[\n",
    "    discipline_final.officer_race == 'black'\n",
    "])"
   ]
  },
  {
   "cell_type": "markdown",
   "id": "f686facc-82a6-419b-a352-6cf0e2eeb0c3",
   "metadata": {},
   "source": [
    "✅  29.8% were suspensions."
   ]
  },
  {
   "cell_type": "code",
   "execution_count": null,
   "id": "2d4c547e-2328-40bd-970e-3a1a5155ea9e",
   "metadata": {},
   "outputs": [
    {
     "data": {
      "text/plain": [
       "0.2982456140350877"
      ]
     },
     "execution_count": 32,
     "metadata": {},
     "output_type": "execute_result"
    }
   ],
   "source": [
    "len(discipline_final[\n",
    "    (discipline_final.final_disposition.str.contains('SUSPEN')) & (discipline_final.officer_race == 'black')\n",
    "])/len(discipline_final[\n",
    "    discipline_final.officer_race == 'black'\n",
    "])"
   ]
  },
  {
   "cell_type": "markdown",
   "id": "0e90a6c4-b7fc-4435-a990-0de23d6f0ee2",
   "metadata": {},
   "source": [
    "✅ Of all 9,997 dispositions involving White officers\n"
   ]
  },
  {
   "cell_type": "code",
   "execution_count": 34,
   "id": "46b6d34f-d875-443d-a922-d79940d49e4a",
   "metadata": {},
   "outputs": [
    {
     "data": {
      "text/plain": [
       "9997"
      ]
     },
     "execution_count": 34,
     "metadata": {},
     "output_type": "execute_result"
    }
   ],
   "source": [
    "len(discipline_final[\n",
    "    discipline_final.officer_race == 'white'\n",
    "])"
   ]
  },
  {
   "cell_type": "markdown",
   "id": "8866066a-e454-4778-b1d1-8c5078f692aa",
   "metadata": {},
   "source": [
    "✅ 19.8% were suspensions. "
   ]
  },
  {
   "cell_type": "code",
   "execution_count": 35,
   "id": "f8b4a77a-26f8-4c6e-a0c1-bb4abcf7f4df",
   "metadata": {},
   "outputs": [
    {
     "data": {
      "text/plain": [
       "0.1983595078523557"
      ]
     },
     "execution_count": 35,
     "metadata": {},
     "output_type": "execute_result"
    }
   ],
   "source": [
    "len(discipline_final[\n",
    "    (discipline_final.final_disposition.str.contains('SUSPEN')) & (discipline_final.officer_race == 'white')\n",
    "])/len(discipline_final[\n",
    "    discipline_final.officer_race == 'white'\n",
    "])"
   ]
  },
  {
   "cell_type": "markdown",
   "id": "795406d9-153d-4d10-80b4-98e4555b8936",
   "metadata": {},
   "source": [
    "Of all dispositions involving females, 24% were suspensions.\n"
   ]
  },
  {
   "cell_type": "code",
   "execution_count": null,
   "id": "256060e7-79b7-4f6f-86f3-9969828d85d7",
   "metadata": {},
   "outputs": [],
   "source": []
  },
  {
   "cell_type": "markdown",
   "id": "5a15043d-7604-4a9c-9a16-a8495e5896c5",
   "metadata": {},
   "source": [
    "Of all dispositions involving males, 21% were suspensions.\n"
   ]
  },
  {
   "cell_type": "code",
   "execution_count": null,
   "id": "38b88599-a02a-4155-a98e-5c46645d1e8c",
   "metadata": {},
   "outputs": [],
   "source": []
  },
  {
   "cell_type": "markdown",
   "id": "b4ffab93-38e3-4478-b048-ded2e5c660de",
   "metadata": {},
   "source": [
    "Thus, dispositions resulting in suspensions were 3% higher for female officers than male officers.\n"
   ]
  },
  {
   "cell_type": "code",
   "execution_count": null,
   "id": "b9c3b85f-f160-4fd1-a2cf-688d372b3bb6",
   "metadata": {},
   "outputs": [],
   "source": []
  }
 ],
 "metadata": {
  "kernelspec": {
   "display_name": "nashville-discipline",
   "language": "python",
   "name": "nashville-discipline"
  },
  "language_info": {
   "codemirror_mode": {
    "name": "ipython",
    "version": 3
   },
   "file_extension": ".py",
   "mimetype": "text/x-python",
   "name": "python",
   "nbconvert_exporter": "python",
   "pygments_lexer": "ipython3",
   "version": "3.8.1"
  }
 },
 "nbformat": 4,
 "nbformat_minor": 5
}
